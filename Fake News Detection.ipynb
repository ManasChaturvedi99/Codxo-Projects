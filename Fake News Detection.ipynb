{
 "cells": [
  {
   "cell_type": "markdown",
   "id": "3748eec4",
   "metadata": {},
   "source": [
    "## Load The Dataset"
   ]
  },
  {
   "cell_type": "code",
   "execution_count": 1,
   "id": "67c9baf4",
   "metadata": {},
   "outputs": [],
   "source": [
    "import pandas as pd"
   ]
  },
  {
   "cell_type": "code",
   "execution_count": 2,
   "id": "5ade467b",
   "metadata": {},
   "outputs": [
    {
     "data": {
      "text/html": [
       "<div>\n",
       "<style scoped>\n",
       "    .dataframe tbody tr th:only-of-type {\n",
       "        vertical-align: middle;\n",
       "    }\n",
       "\n",
       "    .dataframe tbody tr th {\n",
       "        vertical-align: top;\n",
       "    }\n",
       "\n",
       "    .dataframe thead th {\n",
       "        text-align: right;\n",
       "    }\n",
       "</style>\n",
       "<table border=\"1\" class=\"dataframe\">\n",
       "  <thead>\n",
       "    <tr style=\"text-align: right;\">\n",
       "      <th></th>\n",
       "      <th>title</th>\n",
       "      <th>text</th>\n",
       "      <th>subject</th>\n",
       "      <th>date</th>\n",
       "    </tr>\n",
       "  </thead>\n",
       "  <tbody>\n",
       "    <tr>\n",
       "      <th>0</th>\n",
       "      <td>Donald Trump Sends Out Embarrassing New Year’...</td>\n",
       "      <td>Donald Trump just couldn t wish all Americans ...</td>\n",
       "      <td>News</td>\n",
       "      <td>December 31, 2017</td>\n",
       "    </tr>\n",
       "    <tr>\n",
       "      <th>1</th>\n",
       "      <td>Drunk Bragging Trump Staffer Started Russian ...</td>\n",
       "      <td>House Intelligence Committee Chairman Devin Nu...</td>\n",
       "      <td>News</td>\n",
       "      <td>December 31, 2017</td>\n",
       "    </tr>\n",
       "    <tr>\n",
       "      <th>2</th>\n",
       "      <td>Sheriff David Clarke Becomes An Internet Joke...</td>\n",
       "      <td>On Friday, it was revealed that former Milwauk...</td>\n",
       "      <td>News</td>\n",
       "      <td>December 30, 2017</td>\n",
       "    </tr>\n",
       "    <tr>\n",
       "      <th>3</th>\n",
       "      <td>Trump Is So Obsessed He Even Has Obama’s Name...</td>\n",
       "      <td>On Christmas day, Donald Trump announced that ...</td>\n",
       "      <td>News</td>\n",
       "      <td>December 29, 2017</td>\n",
       "    </tr>\n",
       "    <tr>\n",
       "      <th>4</th>\n",
       "      <td>Pope Francis Just Called Out Donald Trump Dur...</td>\n",
       "      <td>Pope Francis used his annual Christmas Day mes...</td>\n",
       "      <td>News</td>\n",
       "      <td>December 25, 2017</td>\n",
       "    </tr>\n",
       "  </tbody>\n",
       "</table>\n",
       "</div>"
      ],
      "text/plain": [
       "                                               title  \\\n",
       "0   Donald Trump Sends Out Embarrassing New Year’...   \n",
       "1   Drunk Bragging Trump Staffer Started Russian ...   \n",
       "2   Sheriff David Clarke Becomes An Internet Joke...   \n",
       "3   Trump Is So Obsessed He Even Has Obama’s Name...   \n",
       "4   Pope Francis Just Called Out Donald Trump Dur...   \n",
       "\n",
       "                                                text subject  \\\n",
       "0  Donald Trump just couldn t wish all Americans ...    News   \n",
       "1  House Intelligence Committee Chairman Devin Nu...    News   \n",
       "2  On Friday, it was revealed that former Milwauk...    News   \n",
       "3  On Christmas day, Donald Trump announced that ...    News   \n",
       "4  Pope Francis used his annual Christmas Day mes...    News   \n",
       "\n",
       "                date  \n",
       "0  December 31, 2017  \n",
       "1  December 31, 2017  \n",
       "2  December 30, 2017  \n",
       "3  December 29, 2017  \n",
       "4  December 25, 2017  "
      ]
     },
     "execution_count": 2,
     "metadata": {},
     "output_type": "execute_result"
    }
   ],
   "source": [
    "df=pd.read_csv('fake.csv')\n",
    "df.head()"
   ]
  },
  {
   "cell_type": "code",
   "execution_count": 6,
   "id": "e45b40b3",
   "metadata": {},
   "outputs": [
    {
     "name": "stdout",
     "output_type": "stream",
     "text": [
      "14431\n"
     ]
    }
   ],
   "source": [
    "sum=0\n",
    "for i in df['subject']:\n",
    "    if (i!='News'):\n",
    "        sum+=1\n",
    "print(sum)"
   ]
  },
  {
   "cell_type": "markdown",
   "id": "58764476",
   "metadata": {},
   "source": [
    "## Combine and Shuffle the Dataset"
   ]
  },
  {
   "cell_type": "code",
   "execution_count": 7,
   "id": "1bd19b25",
   "metadata": {},
   "outputs": [
    {
     "name": "stdout",
     "output_type": "stream",
     "text": [
      "                                               title  \\\n",
      "0  No breakthrough in Supreme Court dispute betwe...   \n",
      "1  Germany calls for restraint, dialogue in Zimbabwe   \n",
      "2   Everyone Is Wondering Just What James Comey W...   \n",
      "3  Militant attack on minister's convoy kills two...   \n",
      "4  CNN’s Don Lemon Tries to Downplay Horrific ‘An...   \n",
      "\n",
      "                                                text       subject  \\\n",
      "0  WASHINGTON (Reuters) - Republican leaders of t...  politicsNews   \n",
      "1  BERLIN (Reuters) - Germany called for all side...     worldnews   \n",
      "2  After former FBI Director, James Comey was fir...          News   \n",
      "3  SRINAGAR, India (Reuters) - Militants attacked...     worldnews   \n",
      "4  In case you missed it, CNN anchor Don Lemon we...   Middle-east   \n",
      "\n",
      "                  date  label  \n",
      "0       March 1, 2016       1  \n",
      "1   November 15, 2017       1  \n",
      "2        June 11, 2017      0  \n",
      "3  September 21, 2017       1  \n",
      "4      January 6, 2017      0  \n"
     ]
    }
   ],
   "source": [
    "\n",
    "# Load the datasets\n",
    "fake_df = pd.read_csv('fake.csv')\n",
    "true_df = pd.read_csv('true.csv')\n",
    "\n",
    "# Add a label column to each dataset\n",
    "fake_df['label'] = 0  # Fake news\n",
    "true_df['label'] = 1  # Real news\n",
    "\n",
    "# Combine the datasets\n",
    "df = pd.concat([fake_df, true_df], ignore_index=True)\n",
    "\n",
    "# Shuffle the combined dataset\n",
    "df = df.sample(frac=1).reset_index(drop=True)\n",
    "\n",
    "print(df.head())\n"
   ]
  },
  {
   "cell_type": "markdown",
   "id": "656249c1",
   "metadata": {},
   "source": [
    "## Preprocess The Dataset"
   ]
  },
  {
   "cell_type": "code",
   "execution_count": 16,
   "id": "d9ddabe0",
   "metadata": {},
   "outputs": [
    {
     "name": "stdout",
     "output_type": "stream",
     "text": [
      "                                               title  \\\n",
      "0  no breakthrough in supreme court dispute betwe...   \n",
      "1   germany calls for restraint dialogue in zimbabwe   \n",
      "2   everyone is wondering just what james comey w...   \n",
      "3  militant attack on minister s convoy kills two...   \n",
      "4  cnn s don lemon tries to downplay horrific ant...   \n",
      "\n",
      "                                                text       subject  \\\n",
      "0  washington reuters republican leaders of the s...  politicsNews   \n",
      "1  berlin reuters germany called for all sides to...     worldnews   \n",
      "2  after former fbi director james comey was fire...          News   \n",
      "3  srinagar india reuters militants attacked the ...     worldnews   \n",
      "4  in case you missed it cnn anchor don lemon wen...   Middle-east   \n",
      "\n",
      "                  date  label  \\\n",
      "0       March 1, 2016       1   \n",
      "1   November 15, 2017       1   \n",
      "2        June 11, 2017      0   \n",
      "3  September 21, 2017       1   \n",
      "4      January 6, 2017      0   \n",
      "\n",
      "                                             content  \n",
      "0  no breakthrough in supreme court dispute betwe...  \n",
      "1  germany calls for restraint dialogue in zimbab...  \n",
      "2   everyone is wondering just what james comey w...  \n",
      "3  militant attack on minister s convoy kills two...  \n",
      "4  cnn s don lemon tries to downplay horrific ant...  \n",
      "Shape of the dataset: (44898, 6)\n",
      "\n",
      "Columns and data types:\n",
      "title      object\n",
      "text       object\n",
      "subject    object\n",
      "date       object\n",
      "label       int64\n",
      "content    object\n",
      "dtype: object\n",
      "\n",
      "Summary statistics:\n",
      "              label\n",
      "count  44898.000000\n",
      "mean       0.477015\n",
      "std        0.499477\n",
      "min        0.000000\n",
      "25%        0.000000\n",
      "50%        0.000000\n",
      "75%        1.000000\n",
      "max        1.000000\n",
      "\n",
      "Missing values:\n",
      "title      0\n",
      "text       0\n",
      "subject    0\n",
      "date       0\n",
      "label      0\n",
      "content    0\n",
      "dtype: int64\n"
     ]
    }
   ],
   "source": [
    "# Basic info\n",
    "print(df.head())\n",
    "print(\"Shape of the dataset:\", df.shape)\n",
    "print(\"\\nColumns and data types:\")\n",
    "print(df.dtypes)\n",
    "print(\"\\nSummary statistics:\")\n",
    "print(df.describe())\n",
    "print(\"\\nMissing values:\")\n",
    "print(df.isnull().sum())"
   ]
  },
  {
   "cell_type": "code",
   "execution_count": 9,
   "id": "823be223",
   "metadata": {},
   "outputs": [
    {
     "data": {
      "text/html": [
       "<div>\n",
       "<style scoped>\n",
       "    .dataframe tbody tr th:only-of-type {\n",
       "        vertical-align: middle;\n",
       "    }\n",
       "\n",
       "    .dataframe tbody tr th {\n",
       "        vertical-align: top;\n",
       "    }\n",
       "\n",
       "    .dataframe thead th {\n",
       "        text-align: right;\n",
       "    }\n",
       "</style>\n",
       "<table border=\"1\" class=\"dataframe\">\n",
       "  <thead>\n",
       "    <tr style=\"text-align: right;\">\n",
       "      <th></th>\n",
       "      <th>title</th>\n",
       "      <th>text</th>\n",
       "      <th>subject</th>\n",
       "      <th>date</th>\n",
       "      <th>label</th>\n",
       "      <th>content</th>\n",
       "    </tr>\n",
       "  </thead>\n",
       "  <tbody>\n",
       "    <tr>\n",
       "      <th>0</th>\n",
       "      <td>no breakthrough in supreme court dispute betwe...</td>\n",
       "      <td>washington reuters republican leaders of the s...</td>\n",
       "      <td>politicsNews</td>\n",
       "      <td>March 1, 2016</td>\n",
       "      <td>1</td>\n",
       "      <td>no breakthrough in supreme court dispute betwe...</td>\n",
       "    </tr>\n",
       "    <tr>\n",
       "      <th>1</th>\n",
       "      <td>germany calls for restraint dialogue in zimbabwe</td>\n",
       "      <td>berlin reuters germany called for all sides to...</td>\n",
       "      <td>worldnews</td>\n",
       "      <td>November 15, 2017</td>\n",
       "      <td>1</td>\n",
       "      <td>germany calls for restraint dialogue in zimbab...</td>\n",
       "    </tr>\n",
       "    <tr>\n",
       "      <th>2</th>\n",
       "      <td>everyone is wondering just what james comey w...</td>\n",
       "      <td>after former fbi director james comey was fire...</td>\n",
       "      <td>News</td>\n",
       "      <td>June 11, 2017</td>\n",
       "      <td>0</td>\n",
       "      <td>everyone is wondering just what james comey w...</td>\n",
       "    </tr>\n",
       "    <tr>\n",
       "      <th>3</th>\n",
       "      <td>militant attack on minister s convoy kills two...</td>\n",
       "      <td>srinagar india reuters militants attacked the ...</td>\n",
       "      <td>worldnews</td>\n",
       "      <td>September 21, 2017</td>\n",
       "      <td>1</td>\n",
       "      <td>militant attack on minister s convoy kills two...</td>\n",
       "    </tr>\n",
       "    <tr>\n",
       "      <th>4</th>\n",
       "      <td>cnn s don lemon tries to downplay horrific ant...</td>\n",
       "      <td>in case you missed it cnn anchor don lemon wen...</td>\n",
       "      <td>Middle-east</td>\n",
       "      <td>January 6, 2017</td>\n",
       "      <td>0</td>\n",
       "      <td>cnn s don lemon tries to downplay horrific ant...</td>\n",
       "    </tr>\n",
       "  </tbody>\n",
       "</table>\n",
       "</div>"
      ],
      "text/plain": [
       "                                               title  \\\n",
       "0  no breakthrough in supreme court dispute betwe...   \n",
       "1   germany calls for restraint dialogue in zimbabwe   \n",
       "2   everyone is wondering just what james comey w...   \n",
       "3  militant attack on minister s convoy kills two...   \n",
       "4  cnn s don lemon tries to downplay horrific ant...   \n",
       "\n",
       "                                                text       subject  \\\n",
       "0  washington reuters republican leaders of the s...  politicsNews   \n",
       "1  berlin reuters germany called for all sides to...     worldnews   \n",
       "2  after former fbi director james comey was fire...          News   \n",
       "3  srinagar india reuters militants attacked the ...     worldnews   \n",
       "4  in case you missed it cnn anchor don lemon wen...   Middle-east   \n",
       "\n",
       "                  date  label  \\\n",
       "0       March 1, 2016       1   \n",
       "1   November 15, 2017       1   \n",
       "2        June 11, 2017      0   \n",
       "3  September 21, 2017       1   \n",
       "4      January 6, 2017      0   \n",
       "\n",
       "                                             content  \n",
       "0  no breakthrough in supreme court dispute betwe...  \n",
       "1  germany calls for restraint dialogue in zimbab...  \n",
       "2   everyone is wondering just what james comey w...  \n",
       "3  militant attack on minister s convoy kills two...  \n",
       "4  cnn s don lemon tries to downplay horrific ant...  "
      ]
     },
     "execution_count": 9,
     "metadata": {},
     "output_type": "execute_result"
    }
   ],
   "source": [
    "## lets clean the dataset to remove any special characters\n",
    "## extra space and also convert all text into lower case.\n",
    "\n",
    "import re\n",
    "\n",
    "# Function to clean text\n",
    "def clean_text(text):\n",
    "    text = text.lower()  # Convert to lowercase\n",
    "    text = re.sub(r'\\[.*?\\]', '', text)  # Remove text in square brackets\n",
    "    text = re.sub(r'\\W', ' ', text)  # Remove non-word characters\n",
    "    text = re.sub(r'\\s+', ' ', text)  # Remove extra spaces\n",
    "    text = re.sub(r\"\\'\", \"'\", text)  # Handle special characters\n",
    "    return text\n",
    "\n",
    "# Apply text cleaning\n",
    "df['title'] = df['title'].apply(clean_text)\n",
    "df['text'] = df['text'].apply(clean_text)\n",
    "\n",
    "# Combine title and text\n",
    "df['content'] = df['title'] + ' ' + df['text']\n",
    "\n",
    "# Display the first few rows of the combined dataset with cleaned text\n",
    "df.head()\n"
   ]
  },
  {
   "cell_type": "markdown",
   "id": "1c401d66",
   "metadata": {},
   "source": [
    "## Data Analysis"
   ]
  },
  {
   "cell_type": "code",
   "execution_count": 11,
   "id": "9e46d3b1",
   "metadata": {},
   "outputs": [
    {
     "data": {
      "image/png": "[encoded data removed]",
      "text/plain": [
       "<Figure size 576x360 with 1 Axes>"
      ]
     },
     "metadata": {
      "needs_background": "light"
     },
     "output_type": "display_data"
    },
    {
     "name": "stdout",
     "output_type": "stream",
     "text": [
      "\n",
      "Label counts:\n",
      "0    23481\n",
      "1    21417\n",
      "Name: label, dtype: int64\n"
     ]
    }
   ],
   "source": [
    "import matplotlib.pyplot as plt\n",
    "# Label distribution\n",
    "label_counts = df['label'].value_counts()\n",
    "plt.figure(figsize=(8, 5))\n",
    "label_counts.plot(kind='bar')\n",
    "plt.title('Label Distribution')\n",
    "plt.xlabel('Label')\n",
    "plt.ylabel('Count')\n",
    "plt.xticks(rotation=0)\n",
    "plt.show()\n",
    "print(\"\\nLabel counts:\")\n",
    "print(label_counts)"
   ]
  },
  {
   "cell_type": "code",
   "execution_count": 13,
   "id": "160c8ec9",
   "metadata": {},
   "outputs": [
    {
     "data": {
      "image/png": "[encoded data removed]",
      "text/plain": [
       "<Figure size 576x360 with 1 Axes>"
      ]
     },
     "metadata": {
      "needs_background": "light"
     },
     "output_type": "display_data"
    }
   ],
   "source": [
    "# Subject Analysis\n",
    "subject_counts = df['subject'].value_counts()\n",
    "plt.figure(figsize=(8, 5))\n",
    "subject_counts.plot(kind='bar')\n",
    "plt.title('Subject Distribution')\n",
    "plt.xlabel('Subject')\n",
    "plt.ylabel('Count')\n",
    "plt.xticks(rotation=45)\n",
    "plt.show()"
   ]
  },
  {
   "cell_type": "markdown",
   "id": "75def883",
   "metadata": {},
   "source": [
    "## Feature Extraction"
   ]
  },
  {
   "cell_type": "code",
   "execution_count": 9,
   "id": "082ec9f0",
   "metadata": {},
   "outputs": [],
   "source": [
    "## split the data into train and test.\n",
    "## using tfdfvectorizer for converting the text into numerical features\n",
    "\n",
    "from sklearn.feature_extraction.text import TfidfVectorizer\n",
    "from sklearn.model_selection import train_test_split\n",
    "\n",
    "# Split the data into training and testing sets\n",
    "X = df['content']\n",
    "y = df['label']\n",
    "\n",
    "X_train, X_test, y_train, y_test = train_test_split(X, y, test_size=0.2, random_state=42)\n",
    "\n",
    "# TF-IDF vectorization\n",
    "tfidf_vectorizer = TfidfVectorizer(max_features=5000, ngram_range=(1, 2))\n",
    "X_train_tfidf = tfidf_vectorizer.fit_transform(X_train)\n",
    "X_test_tfidf = tfidf_vectorizer.transform(X_test)\n"
   ]
  },
  {
   "cell_type": "markdown",
   "id": "2a15b197",
   "metadata": {},
   "source": [
    "## Model Training and Evaluation"
   ]
  },
  {
   "cell_type": "code",
   "execution_count": 10,
   "id": "34047eec",
   "metadata": {},
   "outputs": [
    {
     "name": "stdout",
     "output_type": "stream",
     "text": [
      "Accuracy: 0.9906\n",
      "Precision: 0.9875\n",
      "Recall: 0.9927\n",
      "F1-score: 0.9901\n",
      "\n",
      "Classification Report:\n",
      "              precision    recall  f1-score   support\n",
      "\n",
      "           0       0.99      0.99      0.99      4758\n",
      "           1       0.99      0.99      0.99      4222\n",
      "\n",
      "    accuracy                           0.99      8980\n",
      "   macro avg       0.99      0.99      0.99      8980\n",
      "weighted avg       0.99      0.99      0.99      8980\n",
      "\n"
     ]
    }
   ],
   "source": [
    "from sklearn.linear_model import LogisticRegression\n",
    "from sklearn.metrics import accuracy_score, precision_score, recall_score, f1_score, classification_report\n",
    "\n",
    "# Train the model\n",
    "lr_model = LogisticRegression(max_iter=1000)\n",
    "lr_model.fit(X_train_tfidf, y_train)\n",
    "\n",
    "\n",
    "# Predict on the test set\n",
    "y_pred = lr_model.predict(X_test_tfidf)\n",
    "\n",
    "# Calculate and print the evaluation metrics\n",
    "accuracy = accuracy_score(y_test, y_pred)\n",
    "precision = precision_score(y_test, y_pred)\n",
    "recall = recall_score(y_test, y_pred)\n",
    "f1 = f1_score(y_test, y_pred)\n",
    "\n",
    "print(f'Accuracy: {accuracy:.4f}')\n",
    "print(f'Precision: {precision:.4f}')\n",
    "print(f'Recall: {recall:.4f}')\n",
    "print(f'F1-score: {f1:.4f}')\n",
    "print('\\nClassification Report:')\n",
    "print(classification_report(y_test, y_pred))\n"
   ]
  }
 ],
 "metadata": {
  "kernelspec": {
   "display_name": "Python 3 (ipykernel)",
   "language": "python",
   "name": "python3"
  },
  "language_info": {
   "codemirror_mode": {
    "name": "ipython",
    "version": 3
   },
   "file_extension": ".py",
   "mimetype": "text/x-python",
   "name": "python",
   "nbconvert_exporter": "python",
   "pygments_lexer": "ipython3",
   "version": "3.9.12"
  }
 },
 "nbformat": 4,
 "nbformat_minor": 5
}
